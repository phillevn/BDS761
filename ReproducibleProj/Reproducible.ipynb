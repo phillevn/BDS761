{
 "cells": [
  {
   "cell_type": "code",
   "execution_count": null,
   "metadata": {},
   "outputs": [],
   "source": [
    "import pandas as pd\n",
    "import numpy as np"
   ]
  },
  {
   "cell_type": "code",
   "execution_count": null,
   "metadata": {},
   "outputs": [],
   "source": [
    "data = pd.read_excel(\"Hyperchloremia+and+DKA+Dataset+.xlsx\")"
   ]
  },
  {
   "cell_type": "code",
   "execution_count": null,
   "metadata": {},
   "outputs": [],
   "source": [
    "data"
   ]
  },
  {
   "cell_type": "code",
   "execution_count": null,
   "metadata": {},
   "outputs": [],
   "source": [
    "data.dtypes"
   ]
  },
  {
   "cell_type": "code",
   "execution_count": null,
   "metadata": {},
   "outputs": [],
   "source": [
    "featr = []\n",
    "for item in list(data.columns):\n",
    "    if (('=' in item)==False):\n",
    "        featr.append(item)\n",
    "featr\n"
   ]
  },
  {
   "cell_type": "code",
   "execution_count": null,
   "metadata": {},
   "outputs": [],
   "source": [
    "import chart_studio.plotly as py"
   ]
  },
  {
   "cell_type": "code",
   "execution_count": null,
   "metadata": {},
   "outputs": [],
   "source": [
    "import plotly.express as px"
   ]
  },
  {
   "cell_type": "code",
   "execution_count": null,
   "metadata": {},
   "outputs": [],
   "source": [
    "px.histogram(x = data['Age (years)'], nbins = 20 )"
   ]
  },
  {
   "cell_type": "code",
   "execution_count": null,
   "metadata": {},
   "outputs": [],
   "source": [
    "df = data['Age (years)']\n",
    "# create the bins\n",
    "counts, bins = np.histogram(df, bins=range(0, 100, 5), density=True)\n",
    "bins"
   ]
  },
  {
   "cell_type": "code",
   "execution_count": null,
   "metadata": {},
   "outputs": [],
   "source": [
    "bins = 0.5*(bins[:-1] + bins[1:])\n",
    "bins\n"
   ]
  },
  {
   "cell_type": "code",
   "execution_count": null,
   "metadata": {},
   "outputs": [],
   "source": [
    "fig = px.bar(x=bins, y=counts, labels={'x':'Age', 'y':'count'})\n",
    "fig.show()"
   ]
  },
  {
   "cell_type": "code",
   "execution_count": null,
   "metadata": {},
   "outputs": [],
   "source": [
    "from plotly.offline import iplot, init_notebook_mode"
   ]
  },
  {
   "cell_type": "code",
   "execution_count": null,
   "metadata": {},
   "outputs": [],
   "source": [
    "from ipywidgets import widgets\n",
    "import plotly.graph_objects as go"
   ]
  },
  {
   "cell_type": "code",
   "execution_count": null,
   "metadata": {},
   "outputs": [],
   "source": [
    "featr = ['Age (years)', 'Weight (kg)', 'BMI (kg/m2)','APACHE II Score',\n",
    "       'Admission Chloride (mEq/L)', 'Peak Chloride (mEq/L)']"
   ]
  },
  {
   "cell_type": "code",
   "execution_count": null,
   "metadata": {
    "scrolled": true
   },
   "outputs": [],
   "source": [
    "featuresDens = widgets.Dropdown(\n",
    "    options=featr,\n",
    "    value='Age (years)',\n",
    "    description='Patient features:',\n",
    ")\n",
    "\n",
    "# features = widgets.RadioButtons(\n",
    "#     options=featr,\n",
    "#     value='Age (years)',\n",
    "#     description='Patient features:',\n",
    "# )\n",
    "\n",
    "traceDens = go.Histogram(x = data[featuresDens.get_interact_value()],nbinsx=20)\n",
    "gDens = go.FigureWidget(data=[traceDens],\n",
    "                    layout=go.Layout(\n",
    "                        title=dict(\n",
    "                            text=\"Patient \"+ featuresDens.get_interact_value() + \"' distribution\"\n",
    "                        ),\n",
    "                        barmode='overlay'\n",
    "                    ))\n",
    "\n",
    "def response(change):\n",
    "    res = featuresDens.value\n",
    "    x = data[res]\n",
    "    with gDens.batch_update():\n",
    "        gDens.data[0].x = x\n",
    "        gDens.layout.barmode = 'overlay'\n",
    "        gDens.layout.xaxis.title = res\n",
    "        gDens.layout.yaxis.title = 'Number of ' + res\n",
    "\n",
    "        \n"
   ]
  },
  {
   "cell_type": "code",
   "execution_count": null,
   "metadata": {},
   "outputs": [],
   "source": [
    "\n",
    "featuresDens.observe(response, names=\"value\")\n",
    "\n",
    "\n"
   ]
  },
  {
   "cell_type": "code",
   "execution_count": null,
   "metadata": {
    "scrolled": false
   },
   "outputs": [],
   "source": [
    "containerDens = widgets.HBox([featuresDens])\n",
    "widgets.VBox([containerDens,\n",
    "              gDens])"
   ]
  },
  {
   "cell_type": "code",
   "execution_count": null,
   "metadata": {},
   "outputs": [],
   "source": [
    "features = widgets.Dropdown(\n",
    "    options=featr,\n",
    "    value='Age (years)',\n",
    "    description='Patient features:',\n",
    ")\n",
    "\n",
    "# features = widgets.RadioButtons(\n",
    "#     options=featr,\n",
    "#     value='Age (years)',\n",
    "#     description='Patient features:',\n",
    "# )\n",
    "\n",
    "traceOverall = go.Box(y = data[features.get_interact_value()], name = \"Overall hyperchloremia and normochloremia\")\n",
    "traceHyperchloremia = go.Box(y = data[data['Peak Chloride Category (0 = normochloremia, 1 = hyperchloremia)'] ==1][features.get_interact_value()], name = \"Hyperchloremia\")\n",
    "traceNormochloremia = go.Box(y = data[data['Peak Chloride Category (0 = normochloremia, 1 = hyperchloremia)'] ==0][features.get_interact_value()], name = \"Normochloremia\")\n",
    "\n",
    "#test_data[test_data['Peak Chloride Category (0 = normochloremia, 1 = hyperchloremia)'] ==1].loc[:,'Age (years)']\n",
    "g = go.FigureWidget(data=[traceOverall,traceHyperchloremia,traceNormochloremia],\n",
    "                    layout=go.Layout(\n",
    "                        title=dict(\n",
    "                            text=\"IQR\"\n",
    "                        ),\n",
    "                        boxmode='overlay'\n",
    "                    ))\n",
    "\n",
    "\n",
    "\n",
    "def responsebox(change):\n",
    "    res = features.value\n",
    "    y = data[res]\n",
    "    yH = data[data['Peak Chloride Category (0 = normochloremia, 1 = hyperchloremia)'] ==1][res]\n",
    "    yN = data[data['Peak Chloride Category (0 = normochloremia, 1 = hyperchloremia)'] ==0][res]\n",
    "    with g.batch_update():\n",
    "        g.data[0].y = y\n",
    "        g.data[1].y = yH\n",
    "        g.data[2].y = yN\n",
    "        g.layout.boxmode = 'overlay'\n",
    "        g.layout.xaxis.title = res\n",
    "        g.layout.yaxis.title = 'IQR of ' + res\n",
    "\n",
    "        \n",
    "features.observe(responsebox, names=\"value\")\n",
    "\n",
    "\n"
   ]
  },
  {
   "cell_type": "code",
   "execution_count": null,
   "metadata": {},
   "outputs": [],
   "source": [
    "\n"
   ]
  },
  {
   "cell_type": "code",
   "execution_count": null,
   "metadata": {},
   "outputs": [],
   "source": [
    "container = widgets.HBox([features])\n",
    "widgets.VBox([container,\n",
    "              g])"
   ]
  },
  {
   "cell_type": "code",
   "execution_count": null,
   "metadata": {},
   "outputs": [],
   "source": [
    "fig = go.Figure()\n",
    "for featureName in featr:\n",
    "    fig.add_trace(go.Box(y = data[featureName], name = featureName))\n",
    "\n",
    "    \n",
    "# g.add_trace(go.Box(y=data['Age (years)'], name = 'Age'))\n",
    "# g.add_trace(go.Box(y=data['Weight (kg)'], name = 'Weight'))\n",
    "fig.update_traces(boxpoints='all', jitter=0, showlegend = False)\n",
    "fig.show()"
   ]
  },
  {
   "cell_type": "code",
   "execution_count": null,
   "metadata": {},
   "outputs": [],
   "source": [
    "pd.options.display.max_rows = None\n",
    "pd.options.display.max_columns = None\n",
    "data"
   ]
  },
  {
   "cell_type": "code",
   "execution_count": null,
   "metadata": {},
   "outputs": [],
   "source": [
    "from plotnine import *"
   ]
  },
  {
   "cell_type": "code",
   "execution_count": null,
   "metadata": {},
   "outputs": [],
   "source": [
    "ggplot()  \\\n",
    "+ geom_density(aes('Age (years)'), color = 'blue', data = data) \\\n",
    "+ geom_histogram(aes('Age (years)'), fill = \"red\", bins = 20,data = data)"
   ]
  },
  {
   "cell_type": "code",
   "execution_count": null,
   "metadata": {},
   "outputs": [],
   "source": [
    "data.columns"
   ]
  },
  {
   "cell_type": "code",
   "execution_count": null,
   "metadata": {},
   "outputs": [],
   "source": [
    "data[['Age (years)','Delta Gap (mEq/L)']]"
   ]
  },
  {
   "cell_type": "code",
   "execution_count": null,
   "metadata": {},
   "outputs": [],
   "source": [
    "data.loc[:,'Age (years)':'Delta Gap (mEq/L)']"
   ]
  },
  {
   "cell_type": "code",
   "execution_count": null,
   "metadata": {},
   "outputs": [],
   "source": [
    "data.describe()"
   ]
  },
  {
   "cell_type": "code",
   "execution_count": null,
   "metadata": {},
   "outputs": [],
   "source": [
    "import scipy as sp"
   ]
  },
  {
   "cell_type": "code",
   "execution_count": null,
   "metadata": {},
   "outputs": [],
   "source": [
    "from scipy import *"
   ]
  },
  {
   "cell_type": "code",
   "execution_count": null,
   "metadata": {},
   "outputs": [],
   "source": [
    "test_data = data"
   ]
  },
  {
   "cell_type": "code",
   "execution_count": null,
   "metadata": {},
   "outputs": [],
   "source": [
    "test_data"
   ]
  },
  {
   "cell_type": "code",
   "execution_count": null,
   "metadata": {},
   "outputs": [],
   "source": [
    "test_data['tmp'] = test_data['Age (years)'] + test_data['Weight (kg)']"
   ]
  },
  {
   "cell_type": "code",
   "execution_count": null,
   "metadata": {},
   "outputs": [],
   "source": [
    "row_com = data.columns[1:3].append(data.columns[5:6]) "
   ]
  },
  {
   "cell_type": "code",
   "execution_count": null,
   "metadata": {},
   "outputs": [],
   "source": [
    "list(row_com)"
   ]
  },
  {
   "cell_type": "code",
   "execution_count": null,
   "metadata": {},
   "outputs": [],
   "source": [
    "def mutate(rows, coef):\n",
    "    tmp = 0\n",
    "    for index in coef:\n",
    "        tmp += rows[index]\n",
    "    return tmp\n",
    "    \n",
    "\n",
    "test_data.apply(axis=1, func=lambda rows: mutate(rows, [1]))"
   ]
  },
  {
   "cell_type": "code",
   "execution_count": null,
   "metadata": {},
   "outputs": [],
   "source": [
    "people = pd.DataFrame(np.random.randn(5, 5),\n",
    "                     columns=['a', 'b', 'c', 'd', 'e'],\n",
    "                  index=['Joe', 'Steve', 'Wes', 'Jim', 'Travis'])"
   ]
  },
  {
   "cell_type": "code",
   "execution_count": null,
   "metadata": {},
   "outputs": [],
   "source": [
    "people"
   ]
  },
  {
   "cell_type": "code",
   "execution_count": null,
   "metadata": {},
   "outputs": [],
   "source": [
    "people.groupby(len).mean()"
   ]
  },
  {
   "cell_type": "code",
   "execution_count": null,
   "metadata": {},
   "outputs": [],
   "source": [
    "test_data[test_data['Peak Chloride Category (0 = normochloremia, 1 = hyperchloremia)'] ==1].loc[:,'Age (years)']"
   ]
  },
  {
   "cell_type": "code",
   "execution_count": null,
   "metadata": {},
   "outputs": [],
   "source": [
    "from scipy import stats\n"
   ]
  },
  {
   "cell_type": "code",
   "execution_count": null,
   "metadata": {},
   "outputs": [],
   "source": [
    "stats.ttest_ind(\n",
    "    data[data['Peak Chloride Category (0 = normochloremia, 1 = hyperchloremia)'] ==1]['Age (years)'],\n",
    "    data[data['Peak Chloride Category (0 = normochloremia, 1 = hyperchloremia)'] ==0]['Age (years)']\n",
    ")"
   ]
  },
  {
   "cell_type": "code",
   "execution_count": null,
   "metadata": {},
   "outputs": [],
   "source": [
    "\n",
    "stats.ttest_ind(\n",
    "    data[data['Peak Chloride Category (0 = normochloremia, 1 = hyperchloremia)'] ==1]['APACHE II Score'],\n",
    "    data[data['Peak Chloride Category (0 = normochloremia, 1 = hyperchloremia)'] ==0]['APACHE II Score']\n",
    ")"
   ]
  },
  {
   "cell_type": "code",
   "execution_count": null,
   "metadata": {},
   "outputs": [],
   "source": [
    "\n",
    "stats.ttest_ind(\n",
    "    data[data['Peak Chloride Category (0 = normochloremia, 1 = hyperchloremia)'] ==1]['Unit (0 = Medical ICU, 1 = Intermediate Care)'],\n",
    "    data[data['Peak Chloride Category (0 = normochloremia, 1 = hyperchloremia)'] ==0]['Unit (0 = Medical ICU, 1 = Intermediate Care)'],\n",
    "    equal_var = False\n",
    ")"
   ]
  },
  {
   "cell_type": "code",
   "execution_count": null,
   "metadata": {},
   "outputs": [],
   "source": [
    "import statsmodels.api as sm\n",
    "logit_model=sm.Logit(data['Peak Chloride Category (0 = normochloremia, 1 = hyperchloremia)'],data['APACHE II Score'])\n",
    "result=logit_model.fit()\n",
    "print(result.summary())"
   ]
  },
  {
   "cell_type": "code",
   "execution_count": null,
   "metadata": {},
   "outputs": [],
   "source": [
    "import statsmodels.api as sm\n",
    "logit_model=sm.Logit(data['Peak Chloride Category (0 = normochloremia, 1 = hyperchloremia)'],data['Unit (0 = Medical ICU, 1 = Intermediate Care)'])\n",
    "result=logit_model.fit()\n",
    "print(result.summary())"
   ]
  },
  {
   "cell_type": "code",
   "execution_count": null,
   "metadata": {},
   "outputs": [],
   "source": [
    "contiMICU = pd.crosstab(data['Peak Chloride Category (0 = normochloremia, 1 = hyperchloremia)'],\n",
    "            data['Unit (0 = Medical ICU, 1 = Intermediate Care)'])"
   ]
  },
  {
   "cell_type": "code",
   "execution_count": null,
   "metadata": {},
   "outputs": [],
   "source": [
    "stats.fisher_exact(contiMICU)"
   ]
  },
  {
   "cell_type": "code",
   "execution_count": null,
   "metadata": {},
   "outputs": [],
   "source": [
    "for index in featr:\n",
    "    print(index)\n",
    "    result = stats.ttest_ind(\n",
    "        data[data['Peak Chloride Category (0 = normochloremia, 1 = hyperchloremia)'] ==1][index],\n",
    "        data[data['Peak Chloride Category (0 = normochloremia, 1 = hyperchloremia)'] ==0][index],\n",
    "        equal_var = False,\n",
    "        nan_policy = 'omit'\n",
    "    )\n",
    "    print(\"Hyperchloremia:\")\n",
    "    print(data[data['Peak Chloride Category (0 = normochloremia, 1 = hyperchloremia)'] ==1][index].median())\n",
    "    print(\"Normochloremia:\")\n",
    "    print(data[data['Peak Chloride Category (0 = normochloremia, 1 = hyperchloremia)'] ==0][index].median())\n",
    "    print(f'Mean difference: {result[0]} and P value: {result[1]}')\n",
    "    print(\"\\n\")"
   ]
  },
  {
   "cell_type": "code",
   "execution_count": null,
   "metadata": {},
   "outputs": [],
   "source": [
    "for index in featr:\n",
    "    print(index)\n",
    "    result = stats.mannwhitneyu(\n",
    "        data[data['Peak Chloride Category (0 = normochloremia, 1 = hyperchloremia)'] ==1][index],\n",
    "        data[data['Peak Chloride Category (0 = normochloremia, 1 = hyperchloremia)'] ==0][index],\n",
    "        alternative= 'two-sided',\n",
    "#         nan_policy = 'omit'\n",
    "    )\n",
    "    print(\"Hyperchloremia:\")\n",
    "    print(data[data['Peak Chloride Category (0 = normochloremia, 1 = hyperchloremia)'] ==1][index].median())\n",
    "    print(\"Normochloremia:\")\n",
    "    print(data[data['Peak Chloride Category (0 = normochloremia, 1 = hyperchloremia)'] ==0][index].median())\n",
    "    print(f'Mean difference: {result[0]} and P value: {result[1]}')\n",
    "    print(\"\\n\")"
   ]
  },
  {
   "cell_type": "code",
   "execution_count": null,
   "metadata": {},
   "outputs": [],
   "source": [
    "binFeatr = data.columns.difference(featr)"
   ]
  },
  {
   "cell_type": "code",
   "execution_count": null,
   "metadata": {},
   "outputs": [],
   "source": [
    "for index in binFeatr:\n",
    "    conti = pd.crosstab(data['Peak Chloride Category (0 = normochloremia, 1 = hyperchloremia)'],\n",
    "            data[index])\n",
    "#     print(index)\n",
    "#     print(\"\\n\")\n",
    "#     print(conti.shape)\n",
    "    result = stats.fisher_exact(conti)\n",
    "    print(index)\n",
    "    print(f' Fisher exact test: Statistics: {result[0]}, P value {result[1]}')\n",
    "    print(\"\\n\")"
   ]
  },
  {
   "cell_type": "code",
   "execution_count": null,
   "metadata": {},
   "outputs": [],
   "source": [
    "for index in binFeatr:\n",
    "    conti = pd.crosstab(data['Peak Chloride Category (0 = normochloremia, 1 = hyperchloremia)'],\n",
    "            data[index])\n",
    "#     print(index)\n",
    "#     print(\"\\n\")\n",
    "#     print(conti.shape)\n",
    "    result = stats.chi2_contingency(conti)\n",
    "    print(index)\n",
    "    print(f' Fisher exact test: Statistics: {result[0]}, P value {result[1]}')\n",
    "    print(\"\\n\")"
   ]
  },
  {
   "cell_type": "code",
   "execution_count": null,
   "metadata": {},
   "outputs": [],
   "source": [
    "del data['tmp']\n",
    "#del data['Cause DKA']"
   ]
  },
  {
   "cell_type": "code",
   "execution_count": null,
   "metadata": {},
   "outputs": [],
   "source": [
    "#data['Cause DKA'] = data['Infection as Cause of DKA (0 = no, 1 = yes)'] + data['Other Cause of DKA (0 = no, 1 = yes)'] >=1"
   ]
  },
  {
   "cell_type": "code",
   "execution_count": null,
   "metadata": {},
   "outputs": [],
   "source": [
    "#data['Cause DKA'].describe()"
   ]
  },
  {
   "cell_type": "code",
   "execution_count": null,
   "metadata": {},
   "outputs": [],
   "source": [
    "def DKAcount(rows, binFeatr):\n",
    "    tmp = 0\n",
    "    for index in binFeatr:\n",
    "        if np.isnan(rows[index]) == False:\n",
    "            tmp += rows[index]\n",
    "    return tmp\n",
    "data.apply(axis =1,func = lambda rows: DKAcount(rows,binFeatr))"
   ]
  },
  {
   "cell_type": "code",
   "execution_count": null,
   "metadata": {},
   "outputs": [],
   "source": [
    "data[data['Peak Chloride Category (0 = normochloremia, 1 = hyperchloremia)'] ==0]['Age (years)'].median()"
   ]
  },
  {
   "cell_type": "code",
   "execution_count": null,
   "metadata": {},
   "outputs": [],
   "source": [
    "data[data['Peak Chloride Category (0 = normochloremia, 1 = hyperchloremia)'] ==1]['Age (years)'].median()"
   ]
  },
  {
   "cell_type": "code",
   "execution_count": null,
   "metadata": {},
   "outputs": [],
   "source": [
    "data"
   ]
  },
  {
   "cell_type": "code",
   "execution_count": null,
   "metadata": {},
   "outputs": [],
   "source": [
    "data.columns"
   ]
  },
  {
   "cell_type": "code",
   "execution_count": null,
   "metadata": {},
   "outputs": [],
   "source": [
    "data['event'] = pd.Series(np.ones(data.shape[0]))\n",
    "sur_data = data[['Time to Final DKA Resolution (hours)','Glucose Peak (mg/dL)', 'event']]"
   ]
  },
  {
   "cell_type": "code",
   "execution_count": null,
   "metadata": {},
   "outputs": [],
   "source": [
    "data.shape[0]"
   ]
  },
  {
   "cell_type": "code",
   "execution_count": null,
   "metadata": {},
   "outputs": [],
   "source": [
    "sur_data"
   ]
  },
  {
   "cell_type": "code",
   "execution_count": null,
   "metadata": {},
   "outputs": [],
   "source": [
    "from lifelines import CoxPHFitter"
   ]
  },
  {
   "cell_type": "code",
   "execution_count": null,
   "metadata": {},
   "outputs": [],
   "source": [
    "cph = CoxPHFitter()\n"
   ]
  },
  {
   "cell_type": "code",
   "execution_count": null,
   "metadata": {},
   "outputs": [],
   "source": [
    "col = data.columns"
   ]
  },
  {
   "cell_type": "code",
   "execution_count": null,
   "metadata": {},
   "outputs": [],
   "source": [
    "par_result = []\n",
    "for index in col:\n",
    "    if index != 'Time to Final DKA Resolution (hours)' and index!='event':\n",
    "        sur_data = data[['Time to Final DKA Resolution (hours)','event',index]]\n",
    "        sur_data = sur_data.dropna()\n",
    "    cph.fit(sur_data, duration_col='Time to Final DKA Resolution (hours)', event_col='event')\n",
    "    print(index)\n",
    "    cph.print_summary()  # access the results using cph.summary\n",
    "    if (cph.summary.p[0] < 0.05):\n",
    "        par_result.append(index)\n"
   ]
  },
  {
   "cell_type": "code",
   "execution_count": null,
   "metadata": {},
   "outputs": [],
   "source": [
    "cph.summary.columns"
   ]
  },
  {
   "cell_type": "code",
   "execution_count": null,
   "metadata": {},
   "outputs": [],
   "source": [
    "cph.summary.p > 0.05"
   ]
  },
  {
   "cell_type": "code",
   "execution_count": null,
   "metadata": {},
   "outputs": [],
   "source": [
    "par_result"
   ]
  },
  {
   "cell_type": "code",
   "execution_count": null,
   "metadata": {
    "scrolled": true
   },
   "outputs": [],
   "source": [
    "cox_data = data[par_result]\n",
    "# cox_data = data[['Time to Final DKA Resolution (hours)','event','APACHE II Score','Admission Bicarbonate (mEq/L)']]\n",
    "cox_data"
   ]
  },
  {
   "cell_type": "code",
   "execution_count": null,
   "metadata": {},
   "outputs": [],
   "source": [
    "cox_data.columns"
   ]
  },
  {
   "cell_type": "code",
   "execution_count": null,
   "metadata": {},
   "outputs": [],
   "source": [
    "cox_data = cox_data.drop(columns =['Anion Gap (mEq/L)','Serum pH Nadir '])\n",
    "cox_data=cox_data.dropna(axis = 0)"
   ]
  },
  {
   "cell_type": "code",
   "execution_count": null,
   "metadata": {},
   "outputs": [],
   "source": [
    "cox_data.isnull().sum()"
   ]
  },
  {
   "cell_type": "code",
   "execution_count": null,
   "metadata": {},
   "outputs": [],
   "source": [
    "cox_data"
   ]
  },
  {
   "cell_type": "code",
   "execution_count": null,
   "metadata": {
    "scrolled": true
   },
   "outputs": [],
   "source": [
    "cox_data.isnull().sum()"
   ]
  },
  {
   "cell_type": "code",
   "execution_count": null,
   "metadata": {},
   "outputs": [],
   "source": [
    "from numpy import *\n",
    "from scipy.stats import pearsonr\n",
    "pd.options.display.max_rows = None\n",
    "pd.options.display.max_columns = None\n",
    "cox_data.corr()"
   ]
  },
  {
   "cell_type": "code",
   "execution_count": null,
   "metadata": {},
   "outputs": [],
   "source": [
    "tmp = (cox_data.corr()>0.8)\n",
    "\n",
    "# for index in par_result:\n",
    "#     print(index,(cox_data.corr()>0.9).value_counts())"
   ]
  },
  {
   "cell_type": "code",
   "execution_count": null,
   "metadata": {},
   "outputs": [],
   "source": [
    "tmp.columns"
   ]
  },
  {
   "cell_type": "code",
   "execution_count": null,
   "metadata": {},
   "outputs": [],
   "source": [
    "tmp['Admission Chloride (mEq/L)']"
   ]
  },
  {
   "cell_type": "code",
   "execution_count": null,
   "metadata": {},
   "outputs": [],
   "source": [
    "tmp['Admission Chloride (mEq/L)'].value_counts()"
   ]
  },
  {
   "cell_type": "code",
   "execution_count": null,
   "metadata": {},
   "outputs": [],
   "source": [
    "tmp.columns"
   ]
  },
  {
   "cell_type": "code",
   "execution_count": null,
   "metadata": {},
   "outputs": [],
   "source": [
    "sur_features = []\n",
    "for index in tmp.columns:\n",
    "    print(tmp[index].value_counts())\n",
    "    if tmp[index].value_counts()[0] > 22:\n",
    "        sur_features.append(index)\n",
    "        "
   ]
  },
  {
   "cell_type": "code",
   "execution_count": null,
   "metadata": {},
   "outputs": [],
   "source": [
    "sur_features\n",
    "new_cox_data = data[sur_features]\n",
    "new_cox_data = new_cox_data.dropna()"
   ]
  },
  {
   "cell_type": "code",
   "execution_count": null,
   "metadata": {},
   "outputs": [],
   "source": [
    "tmp['Hospital AKI, Time of Onset from inition of DKA treatment (hours)'].value_counts()[1]"
   ]
  },
  {
   "cell_type": "code",
   "execution_count": null,
   "metadata": {},
   "outputs": [],
   "source": [
    "cph.fit(new_cox_data, duration_col='Time to Final DKA Resolution (hours)', event_col='event')"
   ]
  },
  {
   "cell_type": "code",
   "execution_count": null,
   "metadata": {
    "scrolled": false
   },
   "outputs": [],
   "source": [
    "cph.summary"
   ]
  },
  {
   "cell_type": "code",
   "execution_count": null,
   "metadata": {},
   "outputs": [],
   "source": [
    "paper_data"
   ]
  },
  {
   "cell_type": "code",
   "execution_count": null,
   "metadata": {},
   "outputs": [],
   "source": [
    "paper_data = data[['Time to Final DKA Resolution (hours)','event','Peak Chloride (mEq/L)',\n",
    "                 'APACHE II Score','Total IV Fluid Volume (mL)']]\n"
   ]
  },
  {
   "cell_type": "code",
   "execution_count": null,
   "metadata": {},
   "outputs": [],
   "source": [
    "paper_data"
   ]
  },
  {
   "cell_type": "code",
   "execution_count": null,
   "metadata": {},
   "outputs": [],
   "source": [
    "paper_data.loc[:,'Total Volume'] = paper_data['Total IV Fluid Volume (mL)']/1000\n",
    "paper_data.pop('Total IV Fluid Volume (mL)')"
   ]
  },
  {
   "cell_type": "code",
   "execution_count": null,
   "metadata": {},
   "outputs": [],
   "source": [
    "paper_data"
   ]
  },
  {
   "cell_type": "code",
   "execution_count": null,
   "metadata": {},
   "outputs": [],
   "source": [
    "cph.fit(paper_data, duration_col='Time to Final DKA Resolution (hours)', event_col='event')"
   ]
  },
  {
   "cell_type": "code",
   "execution_count": null,
   "metadata": {},
   "outputs": [],
   "source": [
    "cph.summary"
   ]
  },
  {
   "cell_type": "code",
   "execution_count": null,
   "metadata": {},
   "outputs": [],
   "source": []
  }
 ],
 "metadata": {
  "kernelspec": {
   "display_name": "Python 3",
   "language": "python",
   "name": "python3"
  },
  "language_info": {
   "codemirror_mode": {
    "name": "ipython",
    "version": 3
   },
   "file_extension": ".py",
   "mimetype": "text/x-python",
   "name": "python",
   "nbconvert_exporter": "python",
   "pygments_lexer": "ipython3",
   "version": "3.7.6"
  }
 },
 "nbformat": 4,
 "nbformat_minor": 4
}
